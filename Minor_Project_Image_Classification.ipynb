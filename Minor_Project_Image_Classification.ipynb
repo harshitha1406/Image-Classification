{
  "nbformat": 4,
  "nbformat_minor": 0,
  "metadata": {
    "colab": {
      "name": "Minor Project - Image Classification.ipynb",
      "provenance": [],
      "authorship_tag": "ABX9TyOuzJeAPuoJjxXilIQTeole",
      "include_colab_link": true
    },
    "kernelspec": {
      "name": "python3",
      "display_name": "Python 3"
    },
    "language_info": {
      "name": "python"
    }
  },
  "cells": [
    {
      "cell_type": "markdown",
      "metadata": {
        "id": "view-in-github",
        "colab_type": "text"
      },
      "source": [
        "<a href=\"https://colab.research.google.com/github/harshitha1406/Image-Classification/blob/main/Minor_Project_Image_Classification.ipynb\" target=\"_parent\"><img src=\"https://colab.research.google.com/assets/colab-badge.svg\" alt=\"Open In Colab\"/></a>"
      ]
    },
    {
      "cell_type": "code",
      "metadata": {
        "id": "7k5djZ0FKOr3",
        "colab": {
          "base_uri": "https://localhost:8080/"
        },
        "outputId": "1a2ce76d-e2bb-4524-f775-2a89824bcc57"
      },
      "source": [
        "!unzip Chairs.zip"
      ],
      "execution_count": 1,
      "outputs": [
        {
          "output_type": "stream",
          "text": [
            "Archive:  Chairs.zip\n",
            "  inflating: Chairs/_1200______rocking-chair-bambou-1_15387.jpg  \n",
            "  inflating: Chairs/1.jpg            \n",
            "  inflating: Chairs/1000005680947-1000005680946_07-750.jpg  \n",
            "  inflating: Chairs/121_2.jpg        \n",
            "  inflating: Chairs/1580742487-resize.jpg  \n",
            "  inflating: Chairs/1580748907-1970s-vintage-brass-italian-chiavari-chair-7011.jpg  \n",
            "  inflating: Chairs/263672-1600x1030-identifying-antique-rocking-chairs.jpg  \n",
            "  inflating: Chairs/61caOOcVz9L._SL1500_.jpg  \n",
            "  inflating: Chairs/71HaD7ncUrL._SL1500_.jpg  \n",
            "  inflating: Chairs/71KHrgsmC+L._SL1500_.jpg  \n",
            "  inflating: Chairs/71lF0pr6B-L._SL1500_.jpg  \n",
            "  inflating: Chairs/81J5r9dANGL._SL1500_.jpg  \n",
            "  inflating: Chairs/81jY6WS-c2L._SL1500_.jpg  \n",
            "  inflating: Chairs/Alston-Oak-Dining-Chair-64334-64283.jpg  \n",
            "  inflating: Chairs/barrel-chair-1575497441.jpg  \n",
            "  inflating: Chairs/C1P01-01.jpg     \n",
            "  inflating: Chairs/chair_583020097_1000.jpg  \n",
            "  inflating: Chairs/download.jpg     \n",
            "  inflating: Chairs/executivedeluxe0.jpg  \n",
            "  inflating: Chairs/Gubi_Beetle-Chair-mit-Stoff-und-Gestell-schwarz_1515x1515-ID572442-a40195c7e75264b6a6309e1e0ffa09f7.jpg  \n",
            "  inflating: Chairs/Hay-Result-Chair-schwarz-Eiche-matt-lackiert.jpg  \n",
            "  inflating: Chairs/IVENETOHBBLKBLK_02_2000x.jpg  \n",
            "  inflating: Chairs/MYSTIQUE_CHARCOAL_GREY_MYSTIQUECCG_01_900x.jpg  \n",
            "  inflating: Chairs/Photo-11-5-20-11-06-30.jpg  \n",
            "  inflating: Chairs/Set_of_fourteen_side_chairs_MET_DP110780.jpg  \n",
            "  inflating: Chairs/Sun-Wood-Art-Rocking-Chair-SDL146832940-1-be107.jpg  \n",
            "  inflating: Chairs/ton-rocking-chair-70s.jpg  \n",
            "  inflating: Chairs/whale-chair_by_woocheol-shin_design-hero-852x479.jpg  \n"
          ],
          "name": "stdout"
        }
      ]
    },
    {
      "cell_type": "code",
      "metadata": {
        "id": "b4nIdgyIKtHv",
        "colab": {
          "base_uri": "https://localhost:8080/"
        },
        "outputId": "d7ecbbdb-6c29-4bbd-e1ae-b752ea48dfd2"
      },
      "source": [
        "!unzip Fans.zip"
      ],
      "execution_count": 2,
      "outputs": [
        {
          "output_type": "stream",
          "text": [
            "Archive:  Fans.zip\n",
            "  inflating: Fans/0040078-orient-fan-48-wendy-shine-all-colours.jpg  \n",
            "  inflating: Fans/101_7054.jpg       \n",
            "  inflating: Fans/12V-5010-Cooling-Fan-for-3D-Printer-2.jpg  \n",
            "  inflating: Fans/24-inches-fans-500x500.jpg  \n",
            "  inflating: Fans/4-Blade-Designer-Ceiling-Fan.jpg  \n",
            "  inflating: Fans/51GsLIHbZxL._SL1500_.jpg  \n",
            "  inflating: Fans/51h5QF82mTL._SL1200_.jpg  \n",
            "  inflating: Fans/51QqXY279vL._SL1200_.jpg  \n",
            "  inflating: Fans/52-5-blade-led-standard-ceiling-fan-with-remote-control-and-light-kit-included.jpg  \n",
            "  inflating: Fans/610WX6ejdHL._SL1500_.jpg  \n",
            "  inflating: Fans/61zUsIKkNqL._SX425_.jpg  \n",
            "  inflating: Fans/719t2NyT8GL._AC_SL1500_.jpg  \n",
            "  inflating: Fans/71Sm34rKnkL._SL1500_.jpg  \n",
            "  inflating: Fans/BLDC-fan-2.jpg     \n",
            "  inflating: Fans/categorie-img-10.jpg  \n",
            "  inflating: Fans/clean-fan-today-tease-170717_9c5ce55d4af72fa51c7cc4a25845ec3f.social_share_1024x512_center.jpg  \n",
            "  inflating: Fans/efdQC9CnnszTN.jpg  \n",
            "  inflating: Fans/electric-table-fan-500x500.jpg  \n",
            "  inflating: Fans/F-M14DZVBWH.jpg    \n",
            "  inflating: Fans/maxresdefault.jpg  \n",
            "  inflating: Fans/PROG_P250036_129-30_hero_PRODIMAGE.jpg  \n",
            "  inflating: Fans/rechargeable-fan_556037765442a._heavy-duty-rechargeable-fan.jpg  \n",
            "  inflating: Fans/singer-aerostar-ff-500-mm-pedestal-fan-large.jpg  \n",
            "  inflating: Fans/toughfan_01.jpg    \n"
          ],
          "name": "stdout"
        }
      ]
    },
    {
      "cell_type": "code",
      "metadata": {
        "id": "K-qixUAULDmZ"
      },
      "source": [
        "import os\n",
        "import matplotlib.pyplot as plt\n",
        "import numpy as np\n",
        "from skimage.io import imread\n",
        "from skimage.transform import resize\n",
        "\n",
        "target=[]\n",
        "flat_data=[]\n",
        "\n",
        "DATADIR='/content'\n",
        "CATEGORIES=['Chairs','Fans']\n",
        "\n",
        "for category in CATEGORIES:\n",
        "  class_num=CATEGORIES.index(category)\n",
        "  path=os.path.join(DATADIR,category)\n",
        "  for img in os.listdir(path):\n",
        "    img_array=imread(os.path.join(path,img))\n",
        "    #plt.imshow(img_array)\n",
        "    img_resized=resize(img_array,(150,150,3))\n",
        "    flat_data.append(img_resized.flatten())\n",
        "    target.append(class_num)\n",
        "\n",
        "flat_data=np.array(flat_data)\n",
        "target=np.array(target) "
      ],
      "execution_count": 3,
      "outputs": []
    },
    {
      "cell_type": "code",
      "metadata": {
        "colab": {
          "base_uri": "https://localhost:8080/"
        },
        "id": "_Wge5I6kyn5P",
        "outputId": "4169c193-eec7-4277-ec40-66b41e0c371c"
      },
      "source": [
        "flat_data[0]"
      ],
      "execution_count": 4,
      "outputs": [
        {
          "output_type": "execute_result",
          "data": {
            "text/plain": [
              "array([0.75686275, 0.79215686, 0.78039216, ..., 0.65294118, 0.71176471,\n",
              "       0.72352941])"
            ]
          },
          "metadata": {
            "tags": []
          },
          "execution_count": 4
        }
      ]
    },
    {
      "cell_type": "code",
      "metadata": {
        "colab": {
          "base_uri": "https://localhost:8080/"
        },
        "id": "jES2Vsg35g3f",
        "outputId": "dd974c43-bc22-4d02-b50d-994b8eebcfa4"
      },
      "source": [
        "target"
      ],
      "execution_count": 5,
      "outputs": [
        {
          "output_type": "execute_result",
          "data": {
            "text/plain": [
              "array([0, 0, 0, 0, 0, 0, 0, 0, 0, 0, 0, 0, 0, 0, 0, 0, 0, 0, 0, 0, 0, 0,\n",
              "       0, 0, 0, 0, 0, 0, 1, 1, 1, 1, 1, 1, 1, 1, 1, 1, 1, 1, 1, 1, 1, 1,\n",
              "       1, 1, 1, 1, 1, 1, 1, 1])"
            ]
          },
          "metadata": {
            "tags": []
          },
          "execution_count": 5
        }
      ]
    },
    {
      "cell_type": "code",
      "metadata": {
        "id": "IL8ntbbB5ueY"
      },
      "source": [
        "from sklearn.model_selection import train_test_split\n",
        "x_train,x_test,y_train,y_test=train_test_split(flat_data,target,test_size=None,random_state=123)"
      ],
      "execution_count": 96,
      "outputs": []
    },
    {
      "cell_type": "code",
      "metadata": {
        "colab": {
          "base_uri": "https://localhost:8080/"
        },
        "id": "dL4djaO66BNH",
        "outputId": "bfe7df7d-579b-43aa-ab0e-56c0ad7d2459"
      },
      "source": [
        "from sklearn.model_selection import GridSearchCV\n",
        "from sklearn import svm\n",
        "param_grid=[\n",
        "            {'C':[1,10,100,1000],'kernel':['linear']},\n",
        "            {'C':[1,10,100,1000],'gamma':[0.001,0.0001],'kernel':['rbf']}\n",
        "]\n",
        "svc=svm.SVC(probability=True)\n",
        "clf=GridSearchCV(svc,param_grid)\n",
        "clf.fit(x_train,y_train)"
      ],
      "execution_count": 97,
      "outputs": [
        {
          "output_type": "execute_result",
          "data": {
            "text/plain": [
              "GridSearchCV(cv=None, error_score=nan,\n",
              "             estimator=SVC(C=1.0, break_ties=False, cache_size=200,\n",
              "                           class_weight=None, coef0=0.0,\n",
              "                           decision_function_shape='ovr', degree=3,\n",
              "                           gamma='scale', kernel='rbf', max_iter=-1,\n",
              "                           probability=True, random_state=None, shrinking=True,\n",
              "                           tol=0.001, verbose=False),\n",
              "             iid='deprecated', n_jobs=None,\n",
              "             param_grid=[{'C': [1, 10, 100, 1000], 'kernel': ['linear']},\n",
              "                         {'C': [1, 10, 100, 1000], 'gamma': [0.001, 0.0001],\n",
              "                          'kernel': ['rbf']}],\n",
              "             pre_dispatch='2*n_jobs', refit=True, return_train_score=False,\n",
              "             scoring=None, verbose=0)"
            ]
          },
          "metadata": {
            "tags": []
          },
          "execution_count": 97
        }
      ]
    },
    {
      "cell_type": "code",
      "metadata": {
        "colab": {
          "base_uri": "https://localhost:8080/"
        },
        "id": "0fPtZS06-__I",
        "outputId": "cab005ca-b714-4afa-bac4-268a4f892fd9"
      },
      "source": [
        "y_pred=clf.predict(x_test)\n",
        "y_pred"
      ],
      "execution_count": 98,
      "outputs": [
        {
          "output_type": "execute_result",
          "data": {
            "text/plain": [
              "array([1, 1, 1, 1, 1, 0, 0, 0, 1, 0, 0, 0, 1])"
            ]
          },
          "metadata": {
            "tags": []
          },
          "execution_count": 98
        }
      ]
    },
    {
      "cell_type": "code",
      "metadata": {
        "colab": {
          "base_uri": "https://localhost:8080/"
        },
        "id": "x-9xe0ZY_qjS",
        "outputId": "b42e75d2-47b4-4816-f826-b3de20474a4d"
      },
      "source": [
        "y_test"
      ],
      "execution_count": 99,
      "outputs": [
        {
          "output_type": "execute_result",
          "data": {
            "text/plain": [
              "array([1, 1, 1, 0, 0, 0, 0, 0, 1, 0, 0, 0, 1])"
            ]
          },
          "metadata": {
            "tags": []
          },
          "execution_count": 99
        }
      ]
    },
    {
      "cell_type": "code",
      "metadata": {
        "id": "6bZmL5v6_wO4"
      },
      "source": [
        "from sklearn.metrics import accuracy_score,confusion_matrix"
      ],
      "execution_count": 44,
      "outputs": []
    },
    {
      "cell_type": "code",
      "metadata": {
        "colab": {
          "base_uri": "https://localhost:8080/"
        },
        "id": "dKhNg4OI_7ha",
        "outputId": "7999c4ae-0387-4eea-d4d3-169b4e26f34d"
      },
      "source": [
        "accuracy_score(y_pred,y_test)"
      ],
      "execution_count": 100,
      "outputs": [
        {
          "output_type": "execute_result",
          "data": {
            "text/plain": [
              "0.8461538461538461"
            ]
          },
          "metadata": {
            "tags": []
          },
          "execution_count": 100
        }
      ]
    },
    {
      "cell_type": "code",
      "metadata": {
        "colab": {
          "base_uri": "https://localhost:8080/"
        },
        "id": "6ESCkK0yABDS",
        "outputId": "520b8d8a-4a61-47f2-fcdc-dcfb30d7cfd2"
      },
      "source": [
        "confusion_matrix(y_pred,y_test)"
      ],
      "execution_count": 101,
      "outputs": [
        {
          "output_type": "execute_result",
          "data": {
            "text/plain": [
              "array([[6, 0],\n",
              "       [2, 5]])"
            ]
          },
          "metadata": {
            "tags": []
          },
          "execution_count": 101
        }
      ]
    },
    {
      "cell_type": "code",
      "metadata": {
        "id": "fIdngpizAMC8"
      },
      "source": [
        "import pickle\n",
        "pickle.dump(clf,open('img_model.p','wb'))"
      ],
      "execution_count": 102,
      "outputs": []
    },
    {
      "cell_type": "code",
      "metadata": {
        "id": "dnoFkCfL7Jfn"
      },
      "source": [
        "model=pickle.load(open('img_model.p','rb'))"
      ],
      "execution_count": 103,
      "outputs": []
    },
    {
      "cell_type": "code",
      "metadata": {
        "colab": {
          "base_uri": "https://localhost:8080/",
          "height": 320
        },
        "id": "HQyUx1Yy7pF_",
        "outputId": "e4551408-8e18-45ae-c3b2-49e2909c7dfd"
      },
      "source": [
        "flat_data=[]\n",
        "url=input('Enter your URL')\n",
        "img=imread(url)\n",
        "img_resized=resize(img,(150,150,3))\n",
        "flat_data.append(img_resized.flatten())\n",
        "flat_data=np.array(flat_data)\n",
        "print(img.shape)\n",
        "plt.imshow(img_resized)\n",
        "y_out=model.predict(flat_data)\n",
        "y_out=CATEGORIES[y_out[0]]\n",
        "print(f'PREDICTED OUTPUT : {y_out}')"
      ],
      "execution_count": 107,
      "outputs": [
        {
          "output_type": "stream",
          "text": [
            "Enter your URLhttps://hips.hearstapps.com/vader-prod.s3.amazonaws.com/1580742487-resize.jpg?crop=1xw:1xh;center,top&resize=480:*\n",
            "(480, 480, 3)\n",
            "PREDICTED OUTPUT : Chairs\n"
          ],
          "name": "stdout"
        },
        {
          "output_type": "display_data",
          "data": {
            "image/png": "[encoded data removed]",
            "text/plain": [
              "<Figure size 432x288 with 1 Axes>"
            ]
          },
          "metadata": {
            "tags": [],
            "needs_background": "light"
          }
        }
      ]
    },
    {
      "cell_type": "code",
      "metadata": {
        "id": "hVWNJAua9Npk"
      },
      "source": [
        ""
      ],
      "execution_count": null,
      "outputs": []
    }
  ]
}