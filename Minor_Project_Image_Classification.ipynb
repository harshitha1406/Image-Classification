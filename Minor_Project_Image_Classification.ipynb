{
  "nbformat": 4,
  "nbformat_minor": 0,
  "metadata": {
    "colab": {
      "name": "Minor Project-Image Classification.ipynb",
      "provenance": [],
      "authorship_tag": "ABX9TyMmXITD9G9TOfk0ZrSJO2Sp",
      "include_colab_link": true
    },
    "kernelspec": {
      "name": "python3",
      "display_name": "Python 3"
    },
    "language_info": {
      "name": "python"
    }
  },
  "cells": [
    {
      "cell_type": "markdown",
      "metadata": {
        "id": "view-in-github",
        "colab_type": "text"
      },
      "source": [
        "<a href=\"https://colab.research.google.com/github/harshitha1406/Image-Classification/blob/main/Minor_Project_Image_Classification.ipynb\" target=\"_parent\"><img src=\"https://colab.research.google.com/assets/colab-badge.svg\" alt=\"Open In Colab\"/></a>"
      ]
    },
    {
      "cell_type": "code",
      "metadata": {
        "colab": {
          "base_uri": "https://localhost:8080/"
        },
        "id": "j_-HXRD53G9k",
        "outputId": "d552fc0a-a2f5-49de-824d-f0ed8606b1f8"
      },
      "source": [
        "!unzip Chairs.zip"
      ],
      "execution_count": 1,
      "outputs": [
        {
          "output_type": "stream",
          "text": [
            "Archive:  Chairs.zip\n",
            "  inflating: Chairs/_1200______rocking-chair-bambou-1_15387.jpg  \n",
            "  inflating: Chairs/1.jpg            \n",
            "  inflating: Chairs/1000005680947-1000005680946_07-750.jpg  \n",
            "  inflating: Chairs/121_2.jpg        \n",
            "  inflating: Chairs/1580742487-resize.jpg  \n",
            "  inflating: Chairs/1580748907-1970s-vintage-brass-italian-chiavari-chair-7011.jpg  \n",
            "  inflating: Chairs/263672-1600x1030-identifying-antique-rocking-chairs.jpg  \n",
            "  inflating: Chairs/61caOOcVz9L._SL1500_.jpg  \n",
            "  inflating: Chairs/71HaD7ncUrL._SL1500_.jpg  \n",
            "  inflating: Chairs/71KHrgsmC+L._SL1500_.jpg  \n",
            "  inflating: Chairs/71lF0pr6B-L._SL1500_.jpg  \n",
            "  inflating: Chairs/81J5r9dANGL._SL1500_.jpg  \n",
            "  inflating: Chairs/81jY6WS-c2L._SL1500_.jpg  \n",
            "  inflating: Chairs/Alston-Oak-Dining-Chair-64334-64283.jpg  \n",
            "  inflating: Chairs/barrel-chair-1575497441.jpg  \n",
            "  inflating: Chairs/BoneChair.jpg    \n",
            "  inflating: Chairs/C1P01-01.jpg     \n",
            "  inflating: Chairs/chair_583020097_1000.jpg  \n",
            "  inflating: Chairs/download.jpg     \n",
            "  inflating: Chairs/executivedeluxe0.jpg  \n",
            "  inflating: Chairs/Gubi_Beetle-Chair-mit-Stoff-und-Gestell-schwarz_1515x1515-ID572442-a40195c7e75264b6a6309e1e0ffa09f7.jpg  \n",
            "  inflating: Chairs/Hay-Result-Chair-schwarz-Eiche-matt-lackiert.jpg  \n",
            "  inflating: Chairs/IVENETOHBBLKBLK_02_2000x.jpg  \n",
            "  inflating: Chairs/MYSTIQUE_CHARCOAL_GREY_MYSTIQUECCG_01_900x.jpg  \n",
            "  inflating: Chairs/Photo-11-5-20-11-06-30.jpg  \n",
            "  inflating: Chairs/Set_of_fourteen_side_chairs_MET_DP110780.jpg  \n",
            "  inflating: Chairs/SHELL_EASY_CHAIR_TEAK_CE_WITH_CUSHION_LOWRESS.jpg  \n",
            "  inflating: Chairs/Sun-Wood-Art-Rocking-Chair-SDL146832940-1-be107.jpg  \n",
            "  inflating: Chairs/ton-rocking-chair-70s.jpg  \n",
            "  inflating: Chairs/whale-chair_by_woocheol-shin_design-hero-852x479.jpg  \n"
          ],
          "name": "stdout"
        }
      ]
    },
    {
      "cell_type": "code",
      "metadata": {
        "colab": {
          "base_uri": "https://localhost:8080/"
        },
        "id": "NckyGqAz3tiS",
        "outputId": "081d5b3b-a875-4589-c3ff-ff20715de064"
      },
      "source": [
        "!unzip Fans.zip"
      ],
      "execution_count": 2,
      "outputs": [
        {
          "output_type": "stream",
          "text": [
            "Archive:  Fans.zip\n",
            "  inflating: Fans/0040078-orient-fan-48-wendy-shine-all-colours.jpg  \n",
            "  inflating: Fans/101_7054.jpg       \n",
            "  inflating: Fans/12V-5010-Cooling-Fan-for-3D-Printer-2.jpg  \n",
            "  inflating: Fans/24-inches-fans-500x500.jpg  \n",
            "  inflating: Fans/38206_ceiling_fan.jpg  \n",
            "  inflating: Fans/4-Blade-Designer-Ceiling-Fan.jpg  \n",
            "  inflating: Fans/51GsLIHbZxL._SL1500_.jpg  \n",
            "  inflating: Fans/51h5QF82mTL._SL1200_.jpg  \n",
            "  inflating: Fans/51QqXY279vL._SL1200_.jpg  \n",
            "  inflating: Fans/52-5-blade-led-standard-ceiling-fan-with-remote-control-and-light-kit-included.jpg  \n",
            "  inflating: Fans/610WX6ejdHL._SL1500_.jpg  \n",
            "  inflating: Fans/61zUsIKkNqL._SX425_.jpg  \n",
            "  inflating: Fans/719t2NyT8GL._AC_SL1500_.jpg  \n",
            "  inflating: Fans/71Sm34rKnkL._SL1500_.jpg  \n",
            "  inflating: Fans/arcolite_1_1.jpg   \n",
            "  inflating: Fans/bbb8b4bc6b8c64fe0e4f2f378cf5d97738-honeywell-ht-900-turboforce-air-circulat.rsquare.w600.jpg  \n",
            "  inflating: Fans/BLDC-fan-2.jpg     \n",
            "  inflating: Fans/categorie-img-10.jpg  \n",
            "  inflating: Fans/categorie-img-8.jpg  \n",
            "  inflating: Fans/ceiling-fan-short-blade-length-low-efficacy.jpg  \n",
            "  inflating: Fans/clean-fan-today-tease-170717_9c5ce55d4af72fa51c7cc4a25845ec3f.social_share_1024x512_center.jpg  \n",
            "  inflating: Fans/efdQC9CnnszTN.jpg  \n",
            "  inflating: Fans/electric-table-fan-500x500.jpg  \n",
            "  inflating: Fans/fans-platter.jpg   \n",
            "  inflating: Fans/F-M14DZVBWH.jpg    \n",
            "  inflating: Fans/good_quality_pedestal_fan.jpg  \n",
            "  inflating: Fans/rechargeable-fan_556037765442a._heavy-duty-rechargeable-fan.jpg  \n",
            "  inflating: Fans/sfvf08-w.jpg       \n",
            "  inflating: Fans/singer-aerostar-ff-500-mm-pedestal-fan-large.jpg  \n",
            "  inflating: Fans/toughfan_01.jpg    \n"
          ],
          "name": "stdout"
        }
      ]
    },
    {
      "cell_type": "code",
      "metadata": {
        "id": "nFxq0_Gl3xUP"
      },
      "source": [
        "import os\n",
        "import matplotlib.pyplot as plt\n",
        "import numpy as np\n",
        "from skimage.io import imread\n",
        "from skimage.transform import resize\n",
        "\n",
        "target=[]\n",
        "flat_data=[]\n",
        "\n",
        "DATADIR='/content'\n",
        "CATEGORIES=['Chairs','Fans']\n",
        "\n",
        "for category in CATEGORIES:\n",
        "  class_num=CATEGORIES.index(category)\n",
        "  path=os.path.join(DATADIR,category)\n",
        "  for img in os.listdir(path):\n",
        "    img_array=imread(os.path.join(path,img))\n",
        "    #plt.imshow(img_array)\n",
        "    img_resized=resize(img_array,(150,150,3))\n",
        "    flat_data.append(img_resized.flatten())\n",
        "    target.append(class_num)\n",
        "\n",
        "flat_data=np.array(flat_data)\n",
        "target=np.array(target) "
      ],
      "execution_count": 3,
      "outputs": []
    },
    {
      "cell_type": "code",
      "metadata": {
        "colab": {
          "base_uri": "https://localhost:8080/"
        },
        "id": "VEBeb8G333-7",
        "outputId": "b53c2449-6022-4d0d-b487-882b5c0f5548"
      },
      "source": [
        "flat_data[0]"
      ],
      "execution_count": 4,
      "outputs": [
        {
          "output_type": "execute_result",
          "data": {
            "text/plain": [
              "array([0.99607843, 0.99607843, 0.99607843, ..., 0.99607843, 0.99607843,\n",
              "       0.99607843])"
            ]
          },
          "metadata": {
            "tags": []
          },
          "execution_count": 4
        }
      ]
    },
    {
      "cell_type": "code",
      "metadata": {
        "colab": {
          "base_uri": "https://localhost:8080/"
        },
        "id": "phfyU4g-4Jwl",
        "outputId": "bb832a0d-e1a3-4299-902d-79b0eadde486"
      },
      "source": [
        "target"
      ],
      "execution_count": 5,
      "outputs": [
        {
          "output_type": "execute_result",
          "data": {
            "text/plain": [
              "array([0, 0, 0, 0, 0, 0, 0, 0, 0, 0, 0, 0, 0, 0, 0, 0, 0, 0, 0, 0, 0, 0,\n",
              "       0, 0, 0, 0, 0, 0, 0, 0, 1, 1, 1, 1, 1, 1, 1, 1, 1, 1, 1, 1, 1, 1,\n",
              "       1, 1, 1, 1, 1, 1, 1, 1, 1, 1, 1, 1, 1, 1, 1, 1])"
            ]
          },
          "metadata": {
            "tags": []
          },
          "execution_count": 5
        }
      ]
    },
    {
      "cell_type": "code",
      "metadata": {
        "id": "womRfcR_4L2A"
      },
      "source": [
        "from sklearn.model_selection import train_test_split\n",
        "x_train,x_test,y_train,y_test=train_test_split(flat_data,target,test_size=None,random_state=109)"
      ],
      "execution_count": 13,
      "outputs": []
    },
    {
      "cell_type": "code",
      "metadata": {
        "colab": {
          "base_uri": "https://localhost:8080/"
        },
        "id": "GFWsT5zK4P0s",
        "outputId": "28d63578-09aa-43df-8c3e-dd0d46dfca49"
      },
      "source": [
        "from sklearn.model_selection import GridSearchCV\n",
        "from sklearn import svm\n",
        "param_grid=[\n",
        "            {'C':[1,10,100,1000],'kernel':['linear']},\n",
        "            {'C':[1,10,100,1000],'gamma':[0.001,0.0001],'kernel':['rbf']}\n",
        "]\n",
        "svc=svm.SVC(probability=True)\n",
        "clf=GridSearchCV(svc,param_grid)\n",
        "clf.fit(x_train,y_train)"
      ],
      "execution_count": 14,
      "outputs": [
        {
          "output_type": "execute_result",
          "data": {
            "text/plain": [
              "GridSearchCV(cv=None, error_score=nan,\n",
              "             estimator=SVC(C=1.0, break_ties=False, cache_size=200,\n",
              "                           class_weight=None, coef0=0.0,\n",
              "                           decision_function_shape='ovr', degree=3,\n",
              "                           gamma='scale', kernel='rbf', max_iter=-1,\n",
              "                           probability=True, random_state=None, shrinking=True,\n",
              "                           tol=0.001, verbose=False),\n",
              "             iid='deprecated', n_jobs=None,\n",
              "             param_grid=[{'C': [1, 10, 100, 1000], 'kernel': ['linear']},\n",
              "                         {'C': [1, 10, 100, 1000], 'gamma': [0.001, 0.0001],\n",
              "                          'kernel': ['rbf']}],\n",
              "             pre_dispatch='2*n_jobs', refit=True, return_train_score=False,\n",
              "             scoring=None, verbose=0)"
            ]
          },
          "metadata": {
            "tags": []
          },
          "execution_count": 14
        }
      ]
    },
    {
      "cell_type": "code",
      "metadata": {
        "colab": {
          "base_uri": "https://localhost:8080/"
        },
        "id": "QobTqDEY4UfZ",
        "outputId": "1bf9e852-5be5-43c6-d7e2-7b5c312e3b6f"
      },
      "source": [
        "y_pred=clf.predict(x_test)\n",
        "y_pred"
      ],
      "execution_count": 15,
      "outputs": [
        {
          "output_type": "execute_result",
          "data": {
            "text/plain": [
              "array([0, 1, 0, 1, 0, 1, 1, 0, 0, 1, 1, 1, 1, 0, 1])"
            ]
          },
          "metadata": {
            "tags": []
          },
          "execution_count": 15
        }
      ]
    },
    {
      "cell_type": "code",
      "metadata": {
        "colab": {
          "base_uri": "https://localhost:8080/"
        },
        "id": "Io3n4Dya4nNe",
        "outputId": "a20cefde-a12e-49ec-94bb-a0f1237829e2"
      },
      "source": [
        "y_test"
      ],
      "execution_count": 16,
      "outputs": [
        {
          "output_type": "execute_result",
          "data": {
            "text/plain": [
              "array([0, 0, 0, 1, 0, 0, 1, 0, 0, 1, 1, 1, 1, 0, 1])"
            ]
          },
          "metadata": {
            "tags": []
          },
          "execution_count": 16
        }
      ]
    },
    {
      "cell_type": "code",
      "metadata": {
        "id": "fz9EajxM4p9y"
      },
      "source": [
        "from sklearn.metrics import accuracy_score,confusion_matrix"
      ],
      "execution_count": 10,
      "outputs": []
    },
    {
      "cell_type": "code",
      "metadata": {
        "colab": {
          "base_uri": "https://localhost:8080/"
        },
        "id": "uNhdyu-44uju",
        "outputId": "43e28a38-c5b1-44a7-adf1-96258a07bbb3"
      },
      "source": [
        "accuracy_score(y_pred,y_test)"
      ],
      "execution_count": 17,
      "outputs": [
        {
          "output_type": "execute_result",
          "data": {
            "text/plain": [
              "0.8666666666666667"
            ]
          },
          "metadata": {
            "tags": []
          },
          "execution_count": 17
        }
      ]
    },
    {
      "cell_type": "code",
      "metadata": {
        "colab": {
          "base_uri": "https://localhost:8080/"
        },
        "id": "vWhHxirb4xJe",
        "outputId": "7cb446ec-9e38-402a-fe25-f3a4f14af0ae"
      },
      "source": [
        "confusion_matrix(y_pred,y_test)"
      ],
      "execution_count": 18,
      "outputs": [
        {
          "output_type": "execute_result",
          "data": {
            "text/plain": [
              "array([[6, 0],\n",
              "       [2, 7]])"
            ]
          },
          "metadata": {
            "tags": []
          },
          "execution_count": 18
        }
      ]
    },
    {
      "cell_type": "code",
      "metadata": {
        "id": "PAryzp_z40Yi"
      },
      "source": [
        "import pickle\n",
        "pickle.dump(clf,open('img_model.p','wb'))"
      ],
      "execution_count": 19,
      "outputs": []
    },
    {
      "cell_type": "code",
      "metadata": {
        "id": "ukwalBon5Rvm"
      },
      "source": [
        "model=pickle.load(open('img_model.p','rb'))"
      ],
      "execution_count": 20,
      "outputs": []
    },
    {
      "cell_type": "code",
      "metadata": {
        "colab": {
          "base_uri": "https://localhost:8080/",
          "height": 340
        },
        "id": "KdHDyS6k5VFg",
        "outputId": "94a745ab-662f-499b-fddd-17adf7d91178"
      },
      "source": [
        "flat_data=[]\n",
        "url=input('Enter your URL')\n",
        "img=imread(url)\n",
        "img_resized=resize(img,(150,150,3))\n",
        "flat_data.append(img_resized.flatten())\n",
        "flat_data=np.array(flat_data)\n",
        "print(img.shape)\n",
        "plt.imshow(img_resized)\n",
        "y_out=model.predict(flat_data)\n",
        "y_out=CATEGORIES[y_out[0]]\n",
        "print(f'PREDICTED OUTPUT : {y_out}')"
      ],
      "execution_count": 21,
      "outputs": [
        {
          "output_type": "stream",
          "text": [
            "Enter your URLhttps://ii1.pepperfry.com/media/catalog/product/m/u/568x625/multicolour-patch-iconic-chair-by-star-india-multicolour-patch-iconic-chair-by-star-india-iwybi2.jpg\n",
            "(625, 568, 3)\n",
            "PREDICTED OUTPUT : Chairs\n"
          ],
          "name": "stdout"
        },
        {
          "output_type": "display_data",
          "data": {
            "image/png": "[encoded data removed]",
            "text/plain": [
              "<Figure size 432x288 with 1 Axes>"
            ]
          },
          "metadata": {
            "tags": [],
            "needs_background": "light"
          }
        }
      ]
    },
    {
      "cell_type": "code",
      "metadata": {
        "id": "HmEyp7yK5lqS"
      },
      "source": [
        ""
      ],
      "execution_count": null,
      "outputs": []
    }
  ]
}